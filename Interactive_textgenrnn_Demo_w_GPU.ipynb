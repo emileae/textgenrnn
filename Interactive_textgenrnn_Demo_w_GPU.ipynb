{
  "nbformat": 4,
  "nbformat_minor": 0,
  "metadata": {
    "colab": {
      "name": "Interactive textgenrnn Demo w/ GPU",
      "version": "0.3.2",
      "provenance": [],
      "collapsed_sections": [],
      "include_colab_link": true
    },
    "kernelspec": {
      "name": "python3",
      "display_name": "Python 3"
    },
    "accelerator": "GPU"
  },
  "cells": [
    {
      "cell_type": "markdown",
      "metadata": {
        "id": "view-in-github",
        "colab_type": "text"
      },
      "source": [
        "<a href=\"https://colab.research.google.com/github/emileae/textgenrnn/blob/master/Interactive_textgenrnn_Demo_w_GPU.ipynb\" target=\"_parent\"><img src=\"https://colab.research.google.com/assets/colab-badge.svg\" alt=\"Open In Colab\"/></a>"
      ]
    },
    {
      "metadata": {
        "id": "H7LoMj4GA4n_",
        "colab_type": "text"
      },
      "cell_type": "markdown",
      "source": [
        "#  Interactive textgenrnn Demo w/ GPU\n",
        "\n",
        "by [Max Woolf](http://minimaxir.com)\n",
        "\n",
        "Generate text using a pretrained neural network with a few lines of code, or easily train your own text-generating neural network of any size and complexity, **for free on a GPU using Collaboratory!**\n",
        "\n",
        "For more about textgenrnn, you can visit [this GitHub repository](https://github.com/minimaxir/textgenrnn).\n",
        "\n",
        "\n",
        "To get started:\n",
        "\n",
        "1. Copy this notebook to your Google Drive to keep it and save your changes.\n",
        "2. Make sure you're running the notebook in Google Chrome.\n",
        "3. Run the cells below:\n"
      ]
    },
    {
      "metadata": {
        "id": "KBkpRgBCBS2_",
        "colab_type": "code",
        "outputId": "b35e8be5-906e-4ce4-a78e-85b881cd3a3f",
        "colab": {
          "base_uri": "https://localhost:8080/",
          "height": 34
        }
      },
      "cell_type": "code",
      "source": [
        "!pip install -q textgenrnn\n",
        "from google.colab import files\n",
        "from textgenrnn import textgenrnn\n",
        "import os"
      ],
      "execution_count": 0,
      "outputs": [
        {
          "output_type": "stream",
          "text": [
            "Using TensorFlow backend.\n"
          ],
          "name": "stderr"
        }
      ]
    },
    {
      "metadata": {
        "id": "0wXB05bPDYxS",
        "colab_type": "text"
      },
      "cell_type": "markdown",
      "source": [
        "Set the textgenrnn model configuration here. (see the [demo notebook](https://github.com/minimaxir/textgenrnn/blob/master/docs/textgenrnn-demo.ipynb) for more information about these parameters)\n",
        "\n",
        "If you are using an input file where documents are line-delimited, set `line_delimited` to `True`."
      ]
    },
    {
      "metadata": {
        "id": "P8wSlgXoDPCR",
        "colab_type": "code",
        "colab": {}
      },
      "cell_type": "code",
      "source": [
        "model_cfg = {\n",
        "    'rnn_size': 128,\n",
        "    'rnn_layers': 4,\n",
        "    'rnn_bidirectional': True,\n",
        "    'max_length': 40,\n",
        "    'max_words': 10000,\n",
        "    'dim_embeddings': 100,\n",
        "    'word_level': False,\n",
        "}\n",
        "\n",
        "train_cfg = {\n",
        "    'line_delimited': False,\n",
        "    'num_epochs': 10,\n",
        "    'gen_epochs': 2,\n",
        "    'batch_size': 1024,\n",
        "    'train_size': 0.8,\n",
        "    'dropout': 0.0,\n",
        "    'max_gen_length': 300,\n",
        "    'validation': False,\n",
        "    'is_csv': False\n",
        "}"
      ],
      "execution_count": 0,
      "outputs": []
    },
    {
      "metadata": {
        "id": "BT__brhBCvJu",
        "colab_type": "text"
      },
      "cell_type": "markdown",
      "source": [
        "After running the next cell, the cell will ask you to upload a file. Upload **any text file** and textgenrnn will start training and generating creative text based on that file!\n",
        "\n",
        "The cell after that will start the training. And thanks to the power of Keras's CuDNN layers, training is super-fast! When the training is done, running the cell after this will automatically download the weights, the vocab, and the config.\n",
        "\n",
        "(N.B. the uploaded file is only stored in the Colaboratory VM and no one else can see it)"
      ]
    },
    {
      "metadata": {
        "id": "6OFnPCLADfll",
        "colab_type": "code",
        "outputId": "c89af671-7b6a-4433-d9ba-21a14385d6b9",
        "colab": {
          "resources": {
            "http://localhost:8080/nbextensions/google.colab/files.js": {
              "data": "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",
              "ok": true,
              "headers": [
                [
                  "content-type",
                  "application/javascript"
                ]
              ],
              "status": 200,
              "status_text": ""
            }
          },
          "base_uri": "https://localhost:8080/",
          "height": 87
        }
      },
      "cell_type": "code",
      "source": [
        "uploaded = files.upload()\n",
        "all_files = [(name, os.path.getmtime(name)) for name in os.listdir()]\n",
        "latest_file = sorted(all_files, key=lambda x: -x[1])[0][0]"
      ],
      "execution_count": 0,
      "outputs": [
        {
          "output_type": "display_data",
          "data": {
            "text/html": [
              "\n",
              "     <input type=\"file\" id=\"files-07821b53-b147-4e10-b9ae-9fd890c9bfb1\" name=\"files[]\" multiple disabled />\n",
              "     <output id=\"result-07821b53-b147-4e10-b9ae-9fd890c9bfb1\">\n",
              "      Upload widget is only available when the cell has been executed in the\n",
              "      current browser session. Please rerun this cell to enable.\n",
              "      </output>\n",
              "      <script src=\"/nbextensions/google.colab/files.js\"></script> "
            ],
            "text/plain": [
              "<IPython.core.display.HTML object>"
            ]
          },
          "metadata": {
            "tags": []
          }
        },
        {
          "output_type": "stream",
          "text": [
            "Saving tinyshakespeare.txt to tinyshakespeare.txt\n"
          ],
          "name": "stdout"
        }
      ]
    },
    {
      "metadata": {
        "id": "aeXshJM-Cuaf",
        "colab_type": "code",
        "outputId": "9346436b-87c4-4d5f-835e-c12241570c2c",
        "colab": {
          "base_uri": "https://localhost:8080/",
          "height": 4372
        }
      },
      "cell_type": "code",
      "source": [
        "model_name = 'colaboratory'\n",
        "textgen = textgenrnn(name=model_name)\n",
        "\n",
        "train_function = textgen.train_from_file if train_cfg['line_delimited'] else textgen.train_from_largetext_file\n",
        "\n",
        "train_function(\n",
        "    file_path=latest_file,\n",
        "    new_model=True,\n",
        "    num_epochs=train_cfg['num_epochs'],\n",
        "    gen_epochs=train_cfg['gen_epochs'],\n",
        "    batch_size=train_cfg['batch_size'],\n",
        "    train_size=train_cfg['train_size'],\n",
        "    dropout=train_cfg['dropout'],\n",
        "    max_gen_length=train_cfg['max_gen_length'],\n",
        "    validation=train_cfg['validation'],\n",
        "    is_csv=train_cfg['is_csv'],\n",
        "    rnn_layers=model_cfg['rnn_layers'],\n",
        "    rnn_size=model_cfg['rnn_size'],\n",
        "    rnn_bidirectional=model_cfg['rnn_bidirectional'],\n",
        "    max_length=model_cfg['max_length'],\n",
        "    dim_embeddings=model_cfg['dim_embeddings'],\n",
        "    word_level=model_cfg['word_level'])"
      ],
      "execution_count": 0,
      "outputs": [
        {
          "output_type": "stream",
          "text": [
            "Training new model w/ 4-layer, 128-cell Bidirectional LSTMs\n",
            "Training on 892,505 character sequences.\n",
            "Epoch 1/10\n",
            "557/871 [==================>...........] - ETA: 2:02 - loss: 2.4931"
          ],
          "name": "stdout"
        },
        {
          "output_type": "stream",
          "text": [
            "871/871 [==============================] - 370s 425ms/step - loss: 2.2417 - val_loss: 1.6904\n",
            "Epoch 2/10\n",
            "461/871 [==============>...............] - ETA: 2:38 - loss: 1.6010"
          ],
          "name": "stdout"
        },
        {
          "output_type": "stream",
          "text": [
            "871/871 [==============================] - 370s 425ms/step - loss: 1.5557 - val_loss: 1.4618\n",
            "Epoch 3/10\n",
            "424/871 [=============>................] - ETA: 2:52 - loss: 1.4229"
          ],
          "name": "stdout"
        },
        {
          "output_type": "stream",
          "text": [
            "871/871 [==============================] - 371s 426ms/step - loss: 1.4117 - val_loss: 1.3870\n",
            "Epoch 4/10\n",
            "409/871 [=============>................] - ETA: 2:58 - loss: 1.3470"
          ],
          "name": "stdout"
        },
        {
          "output_type": "stream",
          "text": [
            "871/871 [==============================] - 372s 427ms/step - loss: 1.3420 - val_loss: 1.3553\n",
            "Epoch 5/10\n",
            "403/871 [============>.................] - ETA: 3:00 - loss: 1.2942"
          ],
          "name": "stdout"
        },
        {
          "output_type": "stream",
          "text": [
            "871/871 [==============================] - 371s 426ms/step - loss: 1.2940 - val_loss: 1.3254\n",
            "####################\n",
            "Temperature: 0.2\n",
            "####################\n",
            " them.\n",
            "\n",
            "QUEEN ELIZABETH:\n",
            "Ay, the common services of the soldiers\n",
            "To the contempt of the thousand shall\n",
            "The common soldiers of the world to the soldiers\n",
            "And the prince of the souls of the best,\n",
            "And therefore I should be the best to the death,\n",
            "And the souls of the common tongue of the consent\n",
            "To the b\n",
            "\n",
            " proceed to the ground to the sun.\n",
            "\n",
            "KING RICHARD III:\n",
            "I will be so day the sea, and there is so\n",
            "That he was the truth of the contempty of the world,\n",
            "The souls of the contents and hearts and the commands,\n",
            "And therefore I will be the world and hearts,\n",
            "And then the soldiers of the world and so.\n",
            "\n",
            "PROSPE\n",
            "\n",
            "nd then the world contempt the sun to the soldiers\n",
            "That the thoughts and the truth of the common blood,\n",
            "And therefore I will be so dear love,\n",
            "That thou shalt be proceed of the house,\n",
            "And therefore I shall be so better them,\n",
            "And then I have the contempt of the commands\n",
            "And the bottless of the contrar\n",
            "\n",
            "####################\n",
            "Temperature: 0.5\n",
            "####################\n",
            "round had not done.\n",
            "\n",
            "BRUTUS:\n",
            "I think well; I hope the commands of some prison.\n",
            "\n",
            "FRIAR LAURENCE:\n",
            "And what should be more life; when I shall have him death,\n",
            "That thou for the sword of the throats,\n",
            "When there have made the wrong of heaven,\n",
            "To be honourable which is some soldiers\n",
            "That thou dost do so: w\n",
            "\n",
            "e,\n",
            "That the thrusts and commands and see the common one\n",
            "That is to the people, that hast the ground,\n",
            "And so you the king with the worst to their powers,\n",
            "And she doth but to the house of York,\n",
            "I have not not the soldiers, and so beseech you,\n",
            "And grant the duke of York, and with the rambs\n",
            "Is would not\n",
            "\n",
            "s not that?\n",
            "I am not provoked with the consent of their words,\n",
            "That thou comest thou view the other father\n",
            "Is made the worship of the faces, but she beasts\n",
            "Thou dark me to the people, that I can see\n",
            "The sun with something to the prince and soul,\n",
            "From the man of this to the people to his soldiers\n",
            "To \n",
            "\n",
            "####################\n",
            "Temperature: 1.0\n",
            "####################\n",
            "n that\n",
            "He is like too taughter.\n",
            "\n",
            "All:\n",
            "Prithee, I told mean to the war, hencefort, Worth born!\n",
            "Your lords?\n",
            "\n",
            "SICINIUS:\n",
            "Pardon my conourable,\n",
            "His man, my bed of long-beats totis not;\n",
            "For whose voiwers, better repairn'd,\n",
            "Though be so; shall know here I cannot,\n",
            "Where'sho you she name, we fall well edic.\n",
            "\n",
            "\n",
            "ck again,\n",
            "I'll fell the nose of her hands: let the sea,\n",
            "For I am gone: Answer thee herself,\n",
            "Then bed it to you, and I should turn that I fear,\n",
            "They say'st thou beet me in warrants!\n",
            "\n",
            "YORK:\n",
            "She earthers, thy crown crangations we shall bead,\n",
            "IS Lucenture thou agnivents known choose;\n",
            "Nobly people to see\n",
            "\n",
            "th\n",
            "Here transupation, and to them gives;\n",
            "I'll be confirment to your welshy say,\n",
            "But who comes them: then, son, blue good,\n",
            "Thny brother will charm methought: therefore, ho!\n",
            "\n",
            "GLOUCESTER:\n",
            "It is to me enjoy him, I come not so,\n",
            "I have field he be centrigation.\n",
            "\n",
            "Second Watchman:\n",
            "My father Signior Gremio, \n",
            "\n",
            "Epoch 6/10\n",
            " 17/871 [..............................] - ETA: 5:33 - loss: 1.2378"
          ],
          "name": "stdout"
        },
        {
          "output_type": "stream",
          "text": [
            "871/871 [==============================] - 371s 426ms/step - loss: 1.2561 - val_loss: 1.3092\n",
            "Epoch 7/10\n",
            "250/871 [=======>......................] - ETA: 3:59 - loss: 1.2208"
          ],
          "name": "stdout"
        },
        {
          "output_type": "stream",
          "text": [
            "871/871 [==============================] - 371s 425ms/step - loss: 1.2224 - val_loss: 1.2961\n",
            "Epoch 8/10\n",
            "341/871 [==========>...................] - ETA: 3:24 - loss: 1.1885"
          ],
          "name": "stdout"
        },
        {
          "output_type": "stream",
          "text": [
            "871/871 [==============================] - 374s 429ms/step - loss: 1.1920 - val_loss: 1.2870\n",
            "Epoch 9/10\n",
            "377/871 [===========>..................] - ETA: 3:10 - loss: 1.1589"
          ],
          "name": "stdout"
        },
        {
          "output_type": "stream",
          "text": [
            "871/871 [==============================] - 372s 427ms/step - loss: 1.1627 - val_loss: 1.2871\n",
            "Epoch 10/10\n",
            "388/871 [============>.................] - ETA: 3:05 - loss: 1.1326"
          ],
          "name": "stdout"
        },
        {
          "output_type": "stream",
          "text": [
            "871/871 [==============================] - 372s 427ms/step - loss: 1.1368 - val_loss: 1.2861\n",
            "####################\n",
            "Temperature: 0.2\n",
            "####################\n",
            "rince,\n",
            "And therefore I should be a man and his country.\n",
            "\n",
            "KING RICHARD III:\n",
            "Why, then, the man is the common princely\n",
            "That the sun that he did send the sun that hath been\n",
            "To the prince that thou shalt not speak to him.\n",
            "\n",
            "KING RICHARD II:\n",
            "What, will you be so dear?\n",
            "\n",
            "CORIOLANUS:\n",
            "The more than my love, I\n",
            "\n",
            "the common\n",
            "The common service of the deed of the world.\n",
            "\n",
            "KING RICHARD III:\n",
            "He was the sun so much better than the world,\n",
            "The state of the duke of York and his face\n",
            "And the devil and the seat of the common brows,\n",
            "And with a poor brother than the truth,\n",
            "And then the duke of York and his son that have \n",
            "\n",
            "a or next,\n",
            "And therefore I will be a man to the world,\n",
            "And therefore I have seen the heart of the gods\n",
            "To see the sea with the state of the people.\n",
            "\n",
            "HENRY BOLINGBROKE:\n",
            "The man is the man of the people's place.\n",
            "\n",
            "KING RICHARD III:\n",
            "Why, then the matter of the prince and the sea,\n",
            "The sun shall be so hot\n",
            "\n",
            "####################\n",
            "Temperature: 0.5\n",
            "####################\n",
            "strange,\n",
            "And but you throw the way to sleep the shame.\n",
            "\n",
            "KING EDWARD IV:\n",
            "What a triumph of the matter?\n",
            "\n",
            "ANTONIO:\n",
            "Why, no; he shall not be the seat, and so.\n",
            "\n",
            "KING RICHARD III:\n",
            "Then, my lord, the one so heart was the way\n",
            "And she would be a thousand arms we would do it:\n",
            "I shall be so far is a truth of t\n",
            "\n",
            "eir course,\n",
            "And never seem no bloody thoughts of me\n",
            "The noble and the descend of the slave,\n",
            "To the king's father to the content.\n",
            "\n",
            "LADY ANNE:\n",
            "I pray thee, sir, what is the last?\n",
            "\n",
            "POMPEY:\n",
            "No, sir, I have a little flower to the city,\n",
            "That virtue of my person bright sound\n",
            "To be a man since the common se\n",
            "\n",
            "o thee.\n",
            "\n",
            "KING RICHARD III:\n",
            "What, is it not? a sort or me to the content to him.\n",
            "Now, my lord, I should be better the rest,\n",
            "And therefore prove a love of the prince,\n",
            "The duke, the other shall draw in the way\n",
            "To have his honour in his enemies,\n",
            "Ah, the haste of the people, and you\n",
            "shall be a man make h\n",
            "\n",
            "####################\n",
            "Temperature: 1.0\n",
            "####################\n",
            "if thou comest thou art both:\n",
            "Thy daughter is band; for it be but one.\n",
            "\n",
            "WARWICK:\n",
            "Then mistress are not with the fairer cousins,\n",
            "She doth mock to him, this crown their fortunes,\n",
            "And whilst thou of Rome, because my possession.\n",
            "If thou thus in thee to enter:\n",
            "Not all at honour, with naked womb,--\n",
            "There \n",
            "\n",
            "selves.\n",
            "\n",
            "AUTOLYCUS:\n",
            "Peace hath made to desire you or soar\n",
            "To chotuiate and pluck it like to thee,\n",
            "Rebally cleaves a drum. Anto the old, to prove a common\n",
            "To death thus, which, he is needful looks.\n",
            "\n",
            "ROMEO:\n",
            "And I know no him that they do been my lip.\n",
            "\n",
            "HASTINGS:\n",
            "Can you know it in the execution deliver\n",
            "\n",
            "gry moved.\n",
            "\n",
            "PETRUCHIO:\n",
            "Lucentio? stay, ports my father's deeds,\n",
            "Nor these flood again. What tailst not the\n",
            "bock? cother, wext mine own fortune and remedy\n",
            "in a thin day.\n",
            "\n",
            "MONTAGUE:\n",
            "She hath, Grumio, how as I play this embrace\n",
            "The sun way, no; mirth, by do some royalties\n",
            "Henry the son hanging fives yo\n",
            "\n"
          ],
          "name": "stdout"
        }
      ]
    },
    {
      "metadata": {
        "id": "4RNY6RBI9LmL",
        "colab_type": "code",
        "colab": {}
      },
      "cell_type": "code",
      "source": [
        "files.download('{}_weights.hdf5'.format(model_name))\n",
        "files.download('{}_vocab.json'.format(model_name))\n",
        "files.download('{}_config.json'.format(model_name))"
      ],
      "execution_count": 0,
      "outputs": []
    },
    {
      "metadata": {
        "id": "oF4-PqF0Fl7R",
        "colab_type": "text"
      },
      "cell_type": "markdown",
      "source": [
        "To recreate the model on your own computer, you can do:\n",
        "\n",
        "```\n",
        "from textgenrnn import textgenrnn\n",
        "textgen = textgenrnn(weights_path='colaboratory_weights.hdf5',\n",
        "                       vocab_path='colaboratory_vocab.json',\n",
        "                       config_path='colaboratory_config.json')\n",
        "                       \n",
        "textgen.generate_samples(max_gen_length=1000)\n",
        "textgen.generate_to_file('textgenrnn_texts.txt', max_gen_length=1000)\n",
        "```\n",
        "\n",
        "Have fun with your new model! :)\n",
        "\n",
        "If the notebook has errors (e.g. GPU Sync Fail), force-kill the virtual machine with the command below:"
      ]
    },
    {
      "metadata": {
        "id": "rIHiVP53FnsX",
        "colab_type": "code",
        "outputId": "5a2eccac-4c10-4f11-99a9-5e7eec03b463",
        "colab": {
          "base_uri": "https://localhost:8080/",
          "height": 673
        }
      },
      "cell_type": "code",
      "source": [
        "!kill -9 -1"
      ],
      "execution_count": 0,
      "outputs": [
        {
          "output_type": "stream",
          "text": [
            "e quick\n",
            "And therefore I come, or thou art a strange,\n",
            "And with the streets to the world condition,\n",
            "And shame my remembrance to supply us.\n",
            "\n",
            "Second Murderer:\n",
            "Say they do return it.\n",
            "\n",
            "PROSPERO:\n",
            "First, the place of speediless words to do,\n",
            "When thou art to see him in the foes of blood;\n",
            "And if he was a soldiers with the world,\n",
            "But if you can say 'twere fashion and heart,\n",
            "And what I have their defence of all the hour.\n",
            "\n",
            "KING HENRY VI:\n",
            "What says he shall not speak of the sea\n",
            "For that our seats of stars of many sights\n",
            "Who are the devil of a desperate man;\n",
            "And is the truth of his soul with the wars?\n",
            "\n",
            "BUCKINGHAM:\n",
            "I would the earth is not his head of her,\n",
            "And then the sea did be sure to his like.\n",
            "\n",
            "COMINIUS:\n",
            "Well, by this the god will be a word:\n",
            "There is no more than thou hast been patience\n",
            "That he was the devil. The world should be prove,\n",
            "To cross away to the duke of York.\n",
            "\n",
            "SICINIUS:\n",
            "The people should be dead.\n",
            "\n",
            "LEONTES:\n",
            "Why, then the sun and down with a day in the sun,\n",
            "And with a pretty of the exerci\n",
            "\n"
          ],
          "name": "stdout"
        }
      ]
    }
  ]
}